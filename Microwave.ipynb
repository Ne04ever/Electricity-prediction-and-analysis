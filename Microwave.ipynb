version https://git-lfs.github.com/spec/v1
oid sha256:4b59383af7deb1d68a29f1f9260ba9777d6a6a100cb9006d69538aba90fa3f9d
size 103378546
