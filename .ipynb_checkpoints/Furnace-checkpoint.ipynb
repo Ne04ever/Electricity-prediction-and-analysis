version https://git-lfs.github.com/spec/v1
oid sha256:b78d305c15bac8aef1668e264a2196de0a1a5ef06714f6112b66e2b287ee01b9
size 107244987
