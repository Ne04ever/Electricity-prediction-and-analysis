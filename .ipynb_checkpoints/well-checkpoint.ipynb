version https://git-lfs.github.com/spec/v1
oid sha256:8bdb4d799b47a0bd98f9527a7ea164e9d11e5673f7a58131c0d7cb33816c7478
size 99730805
