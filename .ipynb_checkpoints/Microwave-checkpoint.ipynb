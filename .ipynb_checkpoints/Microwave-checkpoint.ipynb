version https://git-lfs.github.com/spec/v1
oid sha256:9688f4f9e2293ee3cc3ac99d77f286a55b41cf0fa10b48e97f6c643be4db0155
size 103359541
