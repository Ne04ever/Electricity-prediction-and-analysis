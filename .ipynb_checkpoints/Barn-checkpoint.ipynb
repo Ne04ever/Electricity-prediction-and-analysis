version https://git-lfs.github.com/spec/v1
oid sha256:28d273b9f472383fde279108a8ada71004bc0ed73177fd5068a4d976d805126c
size 99850747
