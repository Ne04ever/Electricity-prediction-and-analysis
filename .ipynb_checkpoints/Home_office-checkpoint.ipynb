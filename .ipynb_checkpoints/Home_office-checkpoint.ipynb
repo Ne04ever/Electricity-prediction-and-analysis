version https://git-lfs.github.com/spec/v1
oid sha256:5d689cc2c293527895fbf21a74be8d8a26dcf46dc0c98c85fd8ca908906791b1
size 100260314
