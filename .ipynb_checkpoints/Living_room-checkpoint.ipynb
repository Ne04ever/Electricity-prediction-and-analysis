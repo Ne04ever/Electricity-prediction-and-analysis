version https://git-lfs.github.com/spec/v1
oid sha256:fcf67f5b9a71c839296fbb29cda50b20a70ac8317b509479a21c29eea4b1f6c5
size 104072158
