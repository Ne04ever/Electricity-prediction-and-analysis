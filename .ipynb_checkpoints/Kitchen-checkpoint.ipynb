version https://git-lfs.github.com/spec/v1
oid sha256:dfa28bc17d6e268c840181de489e8521ab443e5fd29200fe1e41ac74751ff2ee
size 107389860
