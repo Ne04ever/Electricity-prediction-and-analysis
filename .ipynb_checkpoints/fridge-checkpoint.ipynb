version https://git-lfs.github.com/spec/v1
oid sha256:c73f7d113752affee4362eefad97aac928aa9f7ecab3f577c0b154ebb2ab6d65
size 104024264
