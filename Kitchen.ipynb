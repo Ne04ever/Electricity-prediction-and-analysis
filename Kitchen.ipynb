version https://git-lfs.github.com/spec/v1
oid sha256:d29420e76c5d0e8eb805841a6a5cec446eadb4467a82f2cbb8f8979670b311db
size 108241333
