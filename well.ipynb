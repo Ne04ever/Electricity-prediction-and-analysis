version https://git-lfs.github.com/spec/v1
oid sha256:e999448ad74d75a723bf44c3ed843fb1ba2935299a21b2adb15d43572aa1eb9e
size 96855832
