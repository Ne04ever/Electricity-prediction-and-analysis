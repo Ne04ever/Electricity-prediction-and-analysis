version https://git-lfs.github.com/spec/v1
oid sha256:c6110c737cd4a31351b2a511daa1ad491554447f9b8957869525adc681884c7a
size 105065870
