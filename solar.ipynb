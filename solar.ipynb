version https://git-lfs.github.com/spec/v1
oid sha256:a36938f4d3f41c3f883fa083411034f75889f8f67dab1cf2b8c9b813e1b39305
size 105140387
