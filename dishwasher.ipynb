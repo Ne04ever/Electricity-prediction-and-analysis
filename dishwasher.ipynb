version https://git-lfs.github.com/spec/v1
oid sha256:b14d3d6428cbbf785bb5ee3725ec6314de99283a11ae842cd66ede0348e7fe12
size 93627500
