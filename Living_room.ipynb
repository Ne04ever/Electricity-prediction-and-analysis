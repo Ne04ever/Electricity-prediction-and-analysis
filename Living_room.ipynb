version https://git-lfs.github.com/spec/v1
oid sha256:1f2a01cd5ce8fccc48ccedb3fe8ea4af7e33ecc01cb53e480692b713049116c5
size 105118324
