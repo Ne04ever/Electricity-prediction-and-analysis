version https://git-lfs.github.com/spec/v1
oid sha256:5b6c43fd5be0e914ac4c10d9cab2d1048e588529fee9198666917a645854ed52
size 99850746
